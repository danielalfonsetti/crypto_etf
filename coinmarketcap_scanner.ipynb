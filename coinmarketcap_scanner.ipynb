{
 "cells": [
  {
   "cell_type": "code",
   "execution_count": 13,
   "metadata": {},
   "outputs": [],
   "source": [
    "# Script to calculate the holdings of a hypothetical market-cap weighted crypto-ETF. \n",
    "\n",
    "TOP_X_CRYPTOS = 50 # Thresholded up to 100\n",
    "DONT_INCLUDE_TOP_X = 0\n",
    "TOTAL_AMOUNT_TO_INVEST = 3000 # dollars\n",
    "\n",
    "BLACK_LISTED_SYMBOLS = {\"USDT\", \"USDC\", \"UST\", \"BUSD\"}"
   ]
  },
  {
   "cell_type": "code",
   "execution_count": 14,
   "metadata": {},
   "outputs": [
    {
     "name": "stderr",
     "output_type": "stream",
     "text": [
      "\n",
      "\n",
      "====== WebDriver manager ======\n",
      "Current google-chrome version is 96.0.4664\n",
      "Get LATEST chromedriver version for 96.0.4664 google-chrome\n",
      "Driver [/Users/daniel/.wdm/drivers/chromedriver/mac64/96.0.4664.45/chromedriver] found in cache\n",
      "/var/folders/3d/vggd2dl96n937ldjr_8vgn240000gn/T/ipykernel_22909/796157277.py:7: DeprecationWarning: executable_path has been deprecated, please pass in a Service object\n",
      "  driver = webdriver.Chrome(ChromeDriverManager().install())\n"
     ]
    }
   ],
   "source": [
    "from selenium import webdriver\n",
    "from webdriver_manager.chrome import ChromeDriverManager\n",
    "import requests\n",
    "from bs4 import BeautifulSoup\n",
    "import pandas as pd \n",
    "import time \n",
    "driver = webdriver.Chrome(ChromeDriverManager().install())"
   ]
  },
  {
   "cell_type": "code",
   "execution_count": 15,
   "metadata": {},
   "outputs": [],
   "source": [
    "def get_soup(url): \n",
    "    # https://coderedirect.com/questions/215584/python-3-using-requests-does-not-get-the-full-content-of-a-web-page\n",
    "    driver.get(url)\n",
    "    soup = BeautifulSoup(driver.page_source, 'html.parser')\n",
    "    driver.quit()\n",
    "    return soup \n",
    "\n",
    "def get_soup2(url): \n",
    "    page = requests.get(url)\n",
    "    soup = BeautifulSoup(page.content, 'html.parser')\n",
    "    return soup "
   ]
  },
  {
   "cell_type": "code",
   "execution_count": 16,
   "metadata": {},
   "outputs": [],
   "source": [
    "url_overrides = {\n",
    "    \"dai\" : \"multi-collateral-dai\",\n",
    "    \"xdc-network\" : \"xinfin\",\n",
    "    '1inch-network' : '1inch',\n",
    "    \"gno\" : \"gnosis-gno\",\n",
    "    \"pax-dollar\": \"paxos-standard\"\n",
    "}"
   ]
  },
  {
   "cell_type": "code",
   "execution_count": 17,
   "metadata": {},
   "outputs": [],
   "source": [
    "\n",
    "url = \"https://coinmarketcap.com/\"\n",
    "soup = get_soup(url)\n",
    "table = soup.find('table', attrs={'class':'h7vnx2-2 czTsgW cmc-table'})\n",
    "table_body = table.find('tbody')\n",
    "url =  'https://coinmarketcap.com/'\n",
    "\n",
    "results = []\n",
    "\n",
    "rows = table_body.find_all('tr')\n",
    "for row in rows[DONT_INCLUDE_TOP_X:min(100, TOP_X_CRYPTOS)]:\n",
    "    # coin_item_symbol = row.find('p', class_ = \"sc-1eb5slv-0 gGIpIK coin-item-symbol\")\n",
    "    coin_symbol = row.find('p', attrs={'class':\"sc-1eb5slv-0 gGIpIK coin-item-symbol\"}) \n",
    "    try: \n",
    "        if coin_symbol:\n",
    "            coin_market_cap =row.find('span', attrs={'class': \"sc-1ow4cwt-1 ieFnWP\"})\n",
    "\n",
    "        else: \n",
    "            coin_symbol = row.find('span', attrs={'class':\"crypto-symbol\"})\n",
    "            url_symbol_text = row.find_all('span')[3].text.lower().replace(\" \", \"-\").replace(\".\", \"-\")\n",
    "\n",
    "            if url_symbol_text in url_overrides: \n",
    "                url_symbol_text = url_overrides[url_symbol_text]\n",
    "\n",
    "            url = f'https://coinmarketcap.com/currencies/{url_symbol_text}/'\n",
    "            market_cap_soup = get_soup2(url) \n",
    "            coin_market_cap = market_cap_soup.find_all('div', attrs={\"class\": \"statsItemRight\"})[0].find(\"div\", attrs={\"class\": \"statsValue\"})\n",
    "\n",
    "        coin_market_cap_int = int(coin_market_cap.text.replace(\",\", \"\").replace(\"$\", \"\"))\n",
    "    except: \n",
    "        print(f\"Failed for token {coin_symbol}\")\n",
    "\n",
    "    if coin_symbol.text in BLACK_LISTED_SYMBOLS: \n",
    "        continue \n",
    "    results.append({'symbol': coin_symbol.text, 'market_cap': coin_market_cap_int})"
   ]
  },
  {
   "cell_type": "code",
   "execution_count": 18,
   "metadata": {},
   "outputs": [],
   "source": [
    "investing_df = pd.DataFrame(results)\n",
    "\n",
    "total_market_cap = investing_df['market_cap'].sum() \n",
    "investing_df['weight'] = investing_df['market_cap'] / total_market_cap"
   ]
  },
  {
   "cell_type": "code",
   "execution_count": 19,
   "metadata": {},
   "outputs": [
    {
     "data": {
      "text/html": [
       "<div>\n",
       "<style scoped>\n",
       "    .dataframe tbody tr th:only-of-type {\n",
       "        vertical-align: middle;\n",
       "    }\n",
       "\n",
       "    .dataframe tbody tr th {\n",
       "        vertical-align: top;\n",
       "    }\n",
       "\n",
       "    .dataframe thead th {\n",
       "        text-align: right;\n",
       "    }\n",
       "</style>\n",
       "<table border=\"1\" class=\"dataframe\">\n",
       "  <thead>\n",
       "    <tr style=\"text-align: right;\">\n",
       "      <th></th>\n",
       "      <th>symbol</th>\n",
       "      <th>market_cap</th>\n",
       "      <th>weight</th>\n",
       "    </tr>\n",
       "  </thead>\n",
       "  <tbody>\n",
       "    <tr>\n",
       "      <th>0</th>\n",
       "      <td>BTC</td>\n",
       "      <td>875392022663</td>\n",
       "      <td>0.452242</td>\n",
       "    </tr>\n",
       "    <tr>\n",
       "      <th>1</th>\n",
       "      <td>ETH</td>\n",
       "      <td>453343419483</td>\n",
       "      <td>0.234205</td>\n",
       "    </tr>\n",
       "    <tr>\n",
       "      <th>2</th>\n",
       "      <td>BNB</td>\n",
       "      <td>85046177329</td>\n",
       "      <td>0.043936</td>\n",
       "    </tr>\n",
       "    <tr>\n",
       "      <th>3</th>\n",
       "      <td>SOL</td>\n",
       "      <td>52178365678</td>\n",
       "      <td>0.026956</td>\n",
       "    </tr>\n",
       "    <tr>\n",
       "      <th>4</th>\n",
       "      <td>ADA</td>\n",
       "      <td>44415527212</td>\n",
       "      <td>0.022946</td>\n",
       "    </tr>\n",
       "  </tbody>\n",
       "</table>\n",
       "</div>"
      ],
      "text/plain": [
       "  symbol    market_cap    weight\n",
       "0    BTC  875392022663  0.452242\n",
       "1    ETH  453343419483  0.234205\n",
       "2    BNB   85046177329  0.043936\n",
       "3    SOL   52178365678  0.026956\n",
       "4    ADA   44415527212  0.022946"
      ]
     },
     "execution_count": 19,
     "metadata": {},
     "output_type": "execute_result"
    }
   ],
   "source": [
    "investing_df.head()"
   ]
  },
  {
   "cell_type": "code",
   "execution_count": 20,
   "metadata": {},
   "outputs": [],
   "source": [
    "# https://docs.gspread.org/en/latest/oauth2.html#enable-api-access\n",
    "# https://docs.gspread.org/en/latest/user-guide.html#opening-a-spreadsheet\n",
    "from google.oauth2.service_account import Credentials\n",
    "import gspread\n",
    "\n",
    "scopes = [\n",
    "    'https://www.googleapis.com/auth/spreadsheets',\n",
    "    'https://www.googleapis.com/auth/drive'\n",
    "]\n",
    "\n",
    "credentials = Credentials.from_service_account_file(\n",
    "    'jsonFileFromGoogle.json',\n",
    "    scopes=scopes\n",
    ")\n",
    "\n",
    "gc = gspread.authorize(credentials)"
   ]
  },
  {
   "cell_type": "code",
   "execution_count": 21,
   "metadata": {},
   "outputs": [
    {
     "data": {
      "text/plain": [
       "{'spreadsheetId': '1J7roesFAznFzOY849R35rzc-n97gRfEL5cezDIzZA9c',\n",
       " 'updatedRange': \"'Crypto ETF (From Script)'!E2\",\n",
       " 'updatedRows': 1,\n",
       " 'updatedColumns': 1,\n",
       " 'updatedCells': 1}"
      ]
     },
     "execution_count": 21,
     "metadata": {},
     "output_type": "execute_result"
    }
   ],
   "source": [
    "sheet_key = '1J7roesFAznFzOY849R35rzc-n97gRfEL5cezDIzZA9c'\n",
    "sheet = gc.open_by_key(key=sheet_key)\n",
    "\n",
    "\n",
    "# https://docs.gspread.org/en/latest/user-guide.html#creating-a-worksheet\n",
    "worksheet_title = \"Crypto ETF (From Script)\"\n",
    "try: \n",
    "    worksheet = sheet.worksheet(worksheet_title)\n",
    "except gspread.WorksheetNotFound:\n",
    "    worksheet = sheet.add_worksheet(title=worksheet_title, rows=100, cols=20)\n",
    "\n",
    "# https://docs.gspread.org/en/latest/user-guide.html#using-gspread-with-pandas\n",
    "worksheet.update([])\n",
    "worksheet.update([investing_df.columns.values.tolist()] + investing_df.values.tolist())\n",
    "worksheet.update_cell(1, 5, \"Time Last Updated:\")\n",
    "worksheet.update_cell(2, 5, time.ctime())"
   ]
  },
  {
   "cell_type": "code",
   "execution_count": null,
   "metadata": {},
   "outputs": [],
   "source": []
  },
  {
   "cell_type": "code",
   "execution_count": null,
   "metadata": {},
   "outputs": [],
   "source": []
  }
 ],
 "metadata": {
  "interpreter": {
   "hash": "b48169e9047576d7aa1ce02e93bb7af6ca0f7c38360e28ec6814b12658a2dd94"
  },
  "kernelspec": {
   "display_name": "Python 3.9.5 64-bit ('venv_coinmarketcap_scanner': pyenv)",
   "language": "python",
   "name": "python3"
  },
  "language_info": {
   "codemirror_mode": {
    "name": "ipython",
    "version": 3
   },
   "file_extension": ".py",
   "mimetype": "text/x-python",
   "name": "python",
   "nbconvert_exporter": "python",
   "pygments_lexer": "ipython3",
   "version": "3.9.5"
  },
  "orig_nbformat": 4
 },
 "nbformat": 4,
 "nbformat_minor": 2
}
