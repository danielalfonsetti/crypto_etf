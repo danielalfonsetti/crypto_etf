{
 "cells": [
  {
   "cell_type": "code",
   "execution_count": 1,
   "id": "d4fe4b84",
   "metadata": {
    "execution": {
     "iopub.execute_input": "2022-01-16T15:43:22.782919Z",
     "iopub.status.busy": "2022-01-16T15:43:22.782130Z",
     "iopub.status.idle": "2022-01-16T15:43:22.787155Z",
     "shell.execute_reply": "2022-01-16T15:43:22.785763Z"
    },
    "papermill": {
     "duration": 0.029604,
     "end_time": "2022-01-16T15:43:22.787551",
     "exception": false,
     "start_time": "2022-01-16T15:43:22.757947",
     "status": "completed"
    },
    "tags": []
   },
   "outputs": [],
   "source": [
    "# Script to calculate the holdings of a hypothetical market-cap weighted crypto-ETF. \n",
    "\n",
    "TOP_X_CRYPTOS = 5 # Thresholded up to 100\n",
    "DONT_INCLUDE_TOP_X = 0\n",
    "TOTAL_AMOUNT_TO_INVEST = 3000 # dollars\n",
    "\n",
    "BLACK_LISTED_SYMBOLS = {\"USDT\", \"USDC\", \"UST\", \"BUSD\", \"DAI\"}"
   ]
  },
  {
   "cell_type": "code",
   "execution_count": 2,
   "id": "78848ce3",
   "metadata": {
    "execution": {
     "iopub.execute_input": "2022-01-16T15:43:22.822271Z",
     "iopub.status.busy": "2022-01-16T15:43:22.820618Z",
     "iopub.status.idle": "2022-01-16T15:43:25.638810Z",
     "shell.execute_reply": "2022-01-16T15:43:25.639265Z"
    },
    "papermill": {
     "duration": 2.837275,
     "end_time": "2022-01-16T15:43:25.639481",
     "exception": false,
     "start_time": "2022-01-16T15:43:22.802206",
     "status": "completed"
    },
    "tags": []
   },
   "outputs": [
    {
     "name": "stderr",
     "output_type": "stream",
     "text": [
      "\n",
      "\n"
     ]
    },
    {
     "name": "stderr",
     "output_type": "stream",
     "text": [
      "====== WebDriver manager ======\n"
     ]
    },
    {
     "name": "stderr",
     "output_type": "stream",
     "text": [
      "Current google-chrome version is 97.0.4692\n"
     ]
    },
    {
     "name": "stderr",
     "output_type": "stream",
     "text": [
      "Get LATEST chromedriver version for 97.0.4692 google-chrome\n"
     ]
    },
    {
     "name": "stderr",
     "output_type": "stream",
     "text": [
      "Driver [/Users/daniel/.wdm/drivers/chromedriver/mac64/97.0.4692.71/chromedriver] found in cache\n"
     ]
    },
    {
     "name": "stderr",
     "output_type": "stream",
     "text": [
      "/var/folders/3d/vggd2dl96n937ldjr_8vgn240000gn/T/ipykernel_22533/796157277.py:7: DeprecationWarning: executable_path has been deprecated, please pass in a Service object\n",
      "  driver = webdriver.Chrome(ChromeDriverManager().install())\n"
     ]
    }
   ],
   "source": [
    "from selenium import webdriver\n",
    "from webdriver_manager.chrome import ChromeDriverManager\n",
    "import requests\n",
    "from bs4 import BeautifulSoup\n",
    "import pandas as pd \n",
    "import time \n",
    "driver = webdriver.Chrome(ChromeDriverManager().install())"
   ]
  },
  {
   "cell_type": "code",
   "execution_count": 3,
   "id": "c6238af6",
   "metadata": {
    "execution": {
     "iopub.execute_input": "2022-01-16T15:43:25.746722Z",
     "iopub.status.busy": "2022-01-16T15:43:25.745784Z",
     "iopub.status.idle": "2022-01-16T15:43:25.748143Z",
     "shell.execute_reply": "2022-01-16T15:43:25.748612Z"
    },
    "papermill": {
     "duration": 0.067318,
     "end_time": "2022-01-16T15:43:25.748861",
     "exception": false,
     "start_time": "2022-01-16T15:43:25.681543",
     "status": "completed"
    },
    "tags": []
   },
   "outputs": [
    {
     "name": "stdout",
     "output_type": "stream",
     "text": [
      "2022-01-16 10:43:25.743822\n"
     ]
    }
   ],
   "source": [
    "import datetime\n",
    "print(datetime.datetime.now() )"
   ]
  },
  {
   "cell_type": "code",
   "execution_count": 4,
   "id": "9dd1a937",
   "metadata": {
    "execution": {
     "iopub.execute_input": "2022-01-16T15:43:25.835861Z",
     "iopub.status.busy": "2022-01-16T15:43:25.835336Z",
     "iopub.status.idle": "2022-01-16T15:43:25.837023Z",
     "shell.execute_reply": "2022-01-16T15:43:25.837403Z"
    },
    "papermill": {
     "duration": 0.030085,
     "end_time": "2022-01-16T15:43:25.837628",
     "exception": false,
     "start_time": "2022-01-16T15:43:25.807543",
     "status": "completed"
    },
    "tags": []
   },
   "outputs": [],
   "source": [
    "def get_soup(url): \n",
    "    # https://coderedirect.com/questions/215584/python-3-using-requests-does-not-get-the-full-content-of-a-web-page\n",
    "    driver.get(url)\n",
    "    soup = BeautifulSoup(driver.page_source, 'html.parser')\n",
    "    driver.quit()\n",
    "    return soup \n",
    "\n",
    "def get_soup2(url): \n",
    "    page = requests.get(url)\n",
    "    soup = BeautifulSoup(page.content, 'html.parser')\n",
    "    return soup "
   ]
  },
  {
   "cell_type": "code",
   "execution_count": 5,
   "id": "19dedb72",
   "metadata": {
    "execution": {
     "iopub.execute_input": "2022-01-16T15:43:25.902962Z",
     "iopub.status.busy": "2022-01-16T15:43:25.902308Z",
     "iopub.status.idle": "2022-01-16T15:43:25.904116Z",
     "shell.execute_reply": "2022-01-16T15:43:25.904642Z"
    },
    "papermill": {
     "duration": 0.05036,
     "end_time": "2022-01-16T15:43:25.904929",
     "exception": false,
     "start_time": "2022-01-16T15:43:25.854569",
     "status": "completed"
    },
    "tags": []
   },
   "outputs": [],
   "source": [
    "url_overrides = {\n",
    "    \"dai\" : \"multi-collateral-dai\",\n",
    "    \"xdc-network\" : \"xinfin\",\n",
    "    '1inch-network' : '1inch',\n",
    "    \"gno\" : \"gnosis-gno\",\n",
    "    \"pax-dollar\": \"paxos-standard\"\n",
    "}"
   ]
  },
  {
   "cell_type": "code",
   "execution_count": 6,
   "id": "c648301e",
   "metadata": {
    "execution": {
     "iopub.execute_input": "2022-01-16T15:43:25.963008Z",
     "iopub.status.busy": "2022-01-16T15:43:25.962296Z",
     "iopub.status.idle": "2022-01-16T15:43:37.256232Z",
     "shell.execute_reply": "2022-01-16T15:43:37.254482Z"
    },
    "papermill": {
     "duration": 11.103528,
     "end_time": "2022-01-16T15:43:37.032778",
     "exception": false,
     "start_time": "2022-01-16T15:43:25.929250",
     "status": "completed"
    },
    "tags": []
   },
   "outputs": [
    {
     "ename": "KeyboardInterrupt",
     "evalue": "",
     "output_type": "error",
     "traceback": [
      "\u001b[0;31m---------------------------------------------------------------------------\u001b[0m",
      "\u001b[0;31mKeyboardInterrupt\u001b[0m                         Traceback (most recent call last)",
      "\u001b[0;32m/var/folders/3d/vggd2dl96n937ldjr_8vgn240000gn/T/ipykernel_22533/1797646097.py\u001b[0m in \u001b[0;36m<module>\u001b[0;34m\u001b[0m\n\u001b[1;32m     11\u001b[0m \u001b[0mrows\u001b[0m \u001b[0;34m=\u001b[0m \u001b[0mtable_body\u001b[0m\u001b[0;34m.\u001b[0m\u001b[0mfind_all\u001b[0m\u001b[0;34m(\u001b[0m\u001b[0;34m'tr'\u001b[0m\u001b[0;34m)\u001b[0m\u001b[0;34m\u001b[0m\u001b[0;34m\u001b[0m\u001b[0m\n\u001b[1;32m     12\u001b[0m \u001b[0;32mfor\u001b[0m \u001b[0mrow\u001b[0m \u001b[0;32min\u001b[0m \u001b[0mrows\u001b[0m\u001b[0;34m[\u001b[0m\u001b[0mDONT_INCLUDE_TOP_X\u001b[0m\u001b[0;34m:\u001b[0m\u001b[0mmin\u001b[0m\u001b[0;34m(\u001b[0m\u001b[0;36m100\u001b[0m\u001b[0;34m,\u001b[0m \u001b[0mTOP_X_CRYPTOS\u001b[0m\u001b[0;34m)\u001b[0m\u001b[0;34m]\u001b[0m\u001b[0;34m:\u001b[0m\u001b[0;34m\u001b[0m\u001b[0;34m\u001b[0m\u001b[0m\n\u001b[0;32m---> 13\u001b[0;31m     \u001b[0mtime\u001b[0m\u001b[0;34m.\u001b[0m\u001b[0msleep\u001b[0m\u001b[0;34m(\u001b[0m\u001b[0;36m5\u001b[0m\u001b[0;34m)\u001b[0m\u001b[0;34m\u001b[0m\u001b[0;34m\u001b[0m\u001b[0m\n\u001b[0m\u001b[1;32m     14\u001b[0m     \u001b[0;31m# coin_item_symbol = row.find('p', class_ = \"sc-1eb5slv-0 gGIpIK coin-item-symbol\")\u001b[0m\u001b[0;34m\u001b[0m\u001b[0;34m\u001b[0m\u001b[0;34m\u001b[0m\u001b[0m\n\u001b[1;32m     15\u001b[0m     \u001b[0mcoin_symbol\u001b[0m \u001b[0;34m=\u001b[0m \u001b[0mrow\u001b[0m\u001b[0;34m.\u001b[0m\u001b[0mfind\u001b[0m\u001b[0;34m(\u001b[0m\u001b[0;34m'p'\u001b[0m\u001b[0;34m,\u001b[0m \u001b[0mattrs\u001b[0m\u001b[0;34m=\u001b[0m\u001b[0;34m{\u001b[0m\u001b[0;34m'class'\u001b[0m\u001b[0;34m:\u001b[0m\u001b[0;34m\"sc-1eb5slv-0 gGIpIK coin-item-symbol\"\u001b[0m\u001b[0;34m}\u001b[0m\u001b[0;34m)\u001b[0m\u001b[0;34m\u001b[0m\u001b[0;34m\u001b[0m\u001b[0m\n",
      "\u001b[0;31mKeyboardInterrupt\u001b[0m: "
     ]
    }
   ],
   "source": [
    "import time \n",
    "\n",
    "url = \"https://coinmarketcap.com/\"\n",
    "soup = get_soup(url)\n",
    "table = soup.find('table', attrs={'class':'h7vnx2-2 czTsgW cmc-table'})\n",
    "table_body = table.find('tbody')\n",
    "url =  'https://coinmarketcap.com/'\n",
    "\n",
    "results = []\n",
    "\n",
    "rows = table_body.find_all('tr')\n",
    "for row in rows[DONT_INCLUDE_TOP_X:min(100, TOP_X_CRYPTOS)]:\n",
    "    time.sleep(5)\n",
    "    # coin_item_symbol = row.find('p', class_ = \"sc-1eb5slv-0 gGIpIK coin-item-symbol\")\n",
    "    coin_symbol = row.find('p', attrs={'class':\"sc-1eb5slv-0 gGIpIK coin-item-symbol\"}) \n",
    "    try: \n",
    "        if coin_symbol:\n",
    "            coin_market_cap =row.find('span', attrs={'class': \"sc-1ow4cwt-1 ieFnWP\"})\n",
    "\n",
    "        else: \n",
    "            coin_symbol = row.find('span', attrs={'class':\"crypto-symbol\"})\n",
    "            url_symbol_text = row.find_all('span')[3].text.lower().replace(\" \", \"-\").replace(\".\", \"-\")\n",
    "\n",
    "            if url_symbol_text in url_overrides: \n",
    "                url_symbol_text = url_overrides[url_symbol_text]\n",
    "\n",
    "            url = f'https://coinmarketcap.com/currencies/{url_symbol_text}/'\n",
    "            market_cap_soup = get_soup2(url) \n",
    "            coin_market_cap = market_cap_soup.find_all('div', attrs={\"class\": \"statsItemRight\"})[0].find(\"div\", attrs={\"class\": \"statsValue\"})\n",
    "\n",
    "        coin_market_cap_int = int(coin_market_cap.text.replace(\",\", \"\").replace(\"$\", \"\"))\n",
    "    except: \n",
    "        print(f\"Failed for token {coin_symbol}\")\n",
    "\n",
    "    if coin_symbol.text in BLACK_LISTED_SYMBOLS: \n",
    "        continue \n",
    "    results.append({'symbol': coin_symbol.text, 'market_cap': coin_market_cap_int})"
   ]
  },
  {
   "cell_type": "code",
   "execution_count": null,
   "id": "4dc6a0e9",
   "metadata": {
    "papermill": {
     "duration": null,
     "end_time": null,
     "exception": null,
     "start_time": null,
     "status": "completed"
    },
    "tags": []
   },
   "outputs": [],
   "source": [
    "investing_df = pd.DataFrame(results)\n",
    "\n",
    "total_market_cap = investing_df['market_cap'].sum() \n",
    "investing_df['weight'] = investing_df['market_cap'] / total_market_cap"
   ]
  },
  {
   "cell_type": "code",
   "execution_count": null,
   "id": "93c14489",
   "metadata": {
    "papermill": {
     "duration": null,
     "end_time": null,
     "exception": null,
     "start_time": null,
     "status": "completed"
    },
    "tags": []
   },
   "outputs": [],
   "source": [
    "investing_df.head()"
   ]
  },
  {
   "cell_type": "code",
   "execution_count": null,
   "id": "0e04fb93",
   "metadata": {
    "papermill": {
     "duration": null,
     "end_time": null,
     "exception": null,
     "start_time": null,
     "status": "completed"
    },
    "tags": []
   },
   "outputs": [],
   "source": [
    "# https://docs.gspread.org/en/latest/oauth2.html#enable-api-access\n",
    "# https://docs.gspread.org/en/latest/user-guide.html#opening-a-spreadsheet\n",
    "from google.oauth2.service_account import Credentials\n",
    "import gspread\n",
    "\n",
    "scopes = [\n",
    "    'https://www.googleapis.com/auth/spreadsheets',\n",
    "    'https://www.googleapis.com/auth/drive'\n",
    "]\n",
    "\n",
    "credentials = Credentials.from_service_account_file(\n",
    "    'jsonFileFromGoogle.json',\n",
    "    scopes=scopes\n",
    ")\n",
    "\n",
    "gc = gspread.authorize(credentials)"
   ]
  },
  {
   "cell_type": "code",
   "execution_count": null,
   "id": "92359757",
   "metadata": {
    "papermill": {
     "duration": null,
     "end_time": null,
     "exception": null,
     "start_time": null,
     "status": "completed"
    },
    "tags": []
   },
   "outputs": [],
   "source": [
    "sheet_key = '1J7roesFAznFzOY849R35rzc-n97gRfEL5cezDIzZA9c'\n",
    "sheet = gc.open_by_key(key=sheet_key)\n",
    "\n",
    "\n",
    "# https://docs.gspread.org/en/latest/user-guide.html#creating-a-worksheet\n",
    "worksheet_title = \"Crypto ETF (From Script)\"\n",
    "try: \n",
    "    worksheet = sheet.worksheet(worksheet_title)\n",
    "except gspread.WorksheetNotFound:\n",
    "    worksheet = sheet.add_worksheet(title=worksheet_title, rows=100, cols=20)\n",
    "\n",
    "# https://docs.gspread.org/en/latest/user-guide.html#using-gspread-with-pandas\n",
    "worksheet.update([])\n",
    "worksheet.update([investing_df.columns.values.tolist()] + investing_df.values.tolist())\n",
    "worksheet.update_cell(1, 5, \"Time Last Updated:\")\n",
    "worksheet.update_cell(2, 5, time.ctime())"
   ]
  },
  {
   "cell_type": "code",
   "execution_count": null,
   "id": "42c1d5df",
   "metadata": {
    "papermill": {
     "duration": null,
     "end_time": null,
     "exception": null,
     "start_time": null,
     "status": "completed"
    },
    "tags": []
   },
   "outputs": [],
   "source": []
  },
  {
   "cell_type": "code",
   "execution_count": null,
   "id": "a885bdf8",
   "metadata": {
    "papermill": {
     "duration": null,
     "end_time": null,
     "exception": null,
     "start_time": null,
     "status": "completed"
    },
    "tags": []
   },
   "outputs": [],
   "source": []
  }
 ],
 "metadata": {
  "interpreter": {
   "hash": "b48169e9047576d7aa1ce02e93bb7af6ca0f7c38360e28ec6814b12658a2dd94"
  },
  "kernelspec": {
   "display_name": "Python 3.9.5 64-bit ('venv_coinmarketcap_scanner': pyenv)",
   "language": "python",
   "name": "python3"
  },
  "language_info": {
   "codemirror_mode": {
    "name": "ipython",
    "version": 3
   },
   "file_extension": ".py",
   "mimetype": "text/x-python",
   "name": "python",
   "nbconvert_exporter": "python",
   "pygments_lexer": "ipython3",
   "version": "3.9.5"
  },
  "papermill": {
   "default_parameters": {},
   "duration": 16.000677,
   "end_time": "2022-01-16T15:43:37.460820",
   "environment_variables": {},
   "exception": null,
   "input_path": "coinmarketcap_scanner.ipynb",
   "output_path": "./output/output.ipynb",
   "parameters": {},
   "start_time": "2022-01-16T15:43:21.460143",
   "version": "2.3.3"
  }
 },
 "nbformat": 4,
 "nbformat_minor": 5
}