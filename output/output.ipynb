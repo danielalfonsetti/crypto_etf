{
 "cells": [
  {
   "cell_type": "code",
   "execution_count": 1,
   "id": "6a5cd247",
   "metadata": {
    "execution": {
     "iopub.execute_input": "2022-01-16T14:45:07.113274Z",
     "iopub.status.busy": "2022-01-16T14:45:07.112447Z",
     "iopub.status.idle": "2022-01-16T14:45:07.115830Z",
     "shell.execute_reply": "2022-01-16T14:45:07.116331Z"
    },
    "papermill": {
     "duration": 0.020696,
     "end_time": "2022-01-16T14:45:07.116667",
     "exception": false,
     "start_time": "2022-01-16T14:45:07.095971",
     "status": "completed"
    },
    "tags": []
   },
   "outputs": [],
   "source": [
    "# Script to calculate the holdings of a hypothetical market-cap weighted crypto-ETF. \n",
    "\n",
    "TOP_X_CRYPTOS = 5 # Thresholded up to 100\n",
    "DONT_INCLUDE_TOP_X = 0\n",
    "TOTAL_AMOUNT_TO_INVEST = 3000 # dollars\n",
    "\n",
    "BLACK_LISTED_SYMBOLS = {\"USDT\", \"USDC\", \"UST\", \"BUSD\", \"DAI\"}"
   ]
  },
  {
   "cell_type": "code",
   "execution_count": 2,
   "id": "5f963d66",
   "metadata": {
    "execution": {
     "iopub.execute_input": "2022-01-16T14:45:07.138236Z",
     "iopub.status.busy": "2022-01-16T14:45:07.137550Z",
     "iopub.status.idle": "2022-01-16T14:45:14.818245Z",
     "shell.execute_reply": "2022-01-16T14:45:14.818959Z"
    },
    "papermill": {
     "duration": 7.692728,
     "end_time": "2022-01-16T14:45:14.819295",
     "exception": false,
     "start_time": "2022-01-16T14:45:07.126567",
     "status": "completed"
    },
    "tags": []
   },
   "outputs": [
    {
     "name": "stderr",
     "output_type": "stream",
     "text": [
      "\n",
      "\n"
     ]
    },
    {
     "name": "stderr",
     "output_type": "stream",
     "text": [
      "====== WebDriver manager ======\n"
     ]
    },
    {
     "name": "stderr",
     "output_type": "stream",
     "text": [
      "Current google-chrome version is 97.0.4692\n"
     ]
    },
    {
     "name": "stderr",
     "output_type": "stream",
     "text": [
      "Get LATEST chromedriver version for 97.0.4692 google-chrome\n"
     ]
    },
    {
     "name": "stderr",
     "output_type": "stream",
     "text": [
      "Driver [/Users/daniel/.wdm/drivers/chromedriver/mac64/97.0.4692.71/chromedriver] found in cache\n"
     ]
    },
    {
     "name": "stderr",
     "output_type": "stream",
     "text": [
      "/var/folders/3d/vggd2dl96n937ldjr_8vgn240000gn/T/ipykernel_3273/796157277.py:7: DeprecationWarning: executable_path has been deprecated, please pass in a Service object\n",
      "  driver = webdriver.Chrome(ChromeDriverManager().install())\n"
     ]
    }
   ],
   "source": [
    "from selenium import webdriver\n",
    "from webdriver_manager.chrome import ChromeDriverManager\n",
    "import requests\n",
    "from bs4 import BeautifulSoup\n",
    "import pandas as pd \n",
    "import time \n",
    "driver = webdriver.Chrome(ChromeDriverManager().install())"
   ]
  },
  {
   "cell_type": "code",
   "execution_count": 3,
   "id": "44aeb026",
   "metadata": {
    "execution": {
     "iopub.execute_input": "2022-01-16T14:45:15.035102Z",
     "iopub.status.busy": "2022-01-16T14:45:15.034453Z",
     "iopub.status.idle": "2022-01-16T14:45:15.037582Z",
     "shell.execute_reply": "2022-01-16T14:45:15.036901Z"
    },
    "papermill": {
     "duration": 0.116259,
     "end_time": "2022-01-16T14:45:15.037748",
     "exception": false,
     "start_time": "2022-01-16T14:45:14.921489",
     "status": "completed"
    },
    "tags": []
   },
   "outputs": [
    {
     "name": "stdout",
     "output_type": "stream",
     "text": [
      "2022-01-16 09:45:15.033106\n"
     ]
    }
   ],
   "source": [
    "import datetime\n",
    "print(datetime.datetime.now() )"
   ]
  },
  {
   "cell_type": "code",
   "execution_count": 4,
   "id": "52fc059e",
   "metadata": {
    "execution": {
     "iopub.execute_input": "2022-01-16T14:45:15.088068Z",
     "iopub.status.busy": "2022-01-16T14:45:15.087321Z",
     "iopub.status.idle": "2022-01-16T14:45:15.089679Z",
     "shell.execute_reply": "2022-01-16T14:45:15.090119Z"
    },
    "papermill": {
     "duration": 0.037548,
     "end_time": "2022-01-16T14:45:15.090342",
     "exception": false,
     "start_time": "2022-01-16T14:45:15.052794",
     "status": "completed"
    },
    "tags": []
   },
   "outputs": [],
   "source": [
    "def get_soup(url): \n",
    "    # https://coderedirect.com/questions/215584/python-3-using-requests-does-not-get-the-full-content-of-a-web-page\n",
    "    driver.get(url)\n",
    "    soup = BeautifulSoup(driver.page_source, 'html.parser')\n",
    "    driver.quit()\n",
    "    return soup \n",
    "\n",
    "def get_soup2(url): \n",
    "    page = requests.get(url)\n",
    "    soup = BeautifulSoup(page.content, 'html.parser')\n",
    "    return soup "
   ]
  },
  {
   "cell_type": "code",
   "execution_count": 5,
   "id": "0e241035",
   "metadata": {
    "execution": {
     "iopub.execute_input": "2022-01-16T14:45:15.144495Z",
     "iopub.status.busy": "2022-01-16T14:45:15.143887Z",
     "iopub.status.idle": "2022-01-16T14:45:15.145906Z",
     "shell.execute_reply": "2022-01-16T14:45:15.145528Z"
    },
    "papermill": {
     "duration": 0.030977,
     "end_time": "2022-01-16T14:45:15.146063",
     "exception": false,
     "start_time": "2022-01-16T14:45:15.115086",
     "status": "completed"
    },
    "tags": []
   },
   "outputs": [],
   "source": [
    "url_overrides = {\n",
    "    \"dai\" : \"multi-collateral-dai\",\n",
    "    \"xdc-network\" : \"xinfin\",\n",
    "    '1inch-network' : '1inch',\n",
    "    \"gno\" : \"gnosis-gno\",\n",
    "    \"pax-dollar\": \"paxos-standard\"\n",
    "}"
   ]
  },
  {
   "cell_type": "code",
   "execution_count": 6,
   "id": "4ce8c00a",
   "metadata": {
    "execution": {
     "iopub.execute_input": "2022-01-16T14:45:15.200616Z",
     "iopub.status.busy": "2022-01-16T14:45:15.199888Z",
     "iopub.status.idle": "2022-01-16T14:45:42.686835Z",
     "shell.execute_reply": "2022-01-16T14:45:42.687298Z"
    },
    "papermill": {
     "duration": 27.521574,
     "end_time": "2022-01-16T14:45:42.687535",
     "exception": false,
     "start_time": "2022-01-16T14:45:15.165961",
     "status": "completed"
    },
    "tags": []
   },
   "outputs": [],
   "source": [
    "import time \n",
    "\n",
    "url = \"https://coinmarketcap.com/\"\n",
    "soup = get_soup(url)\n",
    "table = soup.find('table', attrs={'class':'h7vnx2-2 czTsgW cmc-table'})\n",
    "table_body = table.find('tbody')\n",
    "url =  'https://coinmarketcap.com/'\n",
    "\n",
    "results = []\n",
    "\n",
    "rows = table_body.find_all('tr')\n",
    "for row in rows[DONT_INCLUDE_TOP_X:min(100, TOP_X_CRYPTOS)]:\n",
    "    time.sleep(5)\n",
    "    # coin_item_symbol = row.find('p', class_ = \"sc-1eb5slv-0 gGIpIK coin-item-symbol\")\n",
    "    coin_symbol = row.find('p', attrs={'class':\"sc-1eb5slv-0 gGIpIK coin-item-symbol\"}) \n",
    "    try: \n",
    "        if coin_symbol:\n",
    "            coin_market_cap =row.find('span', attrs={'class': \"sc-1ow4cwt-1 ieFnWP\"})\n",
    "\n",
    "        else: \n",
    "            coin_symbol = row.find('span', attrs={'class':\"crypto-symbol\"})\n",
    "            url_symbol_text = row.find_all('span')[3].text.lower().replace(\" \", \"-\").replace(\".\", \"-\")\n",
    "\n",
    "            if url_symbol_text in url_overrides: \n",
    "                url_symbol_text = url_overrides[url_symbol_text]\n",
    "\n",
    "            url = f'https://coinmarketcap.com/currencies/{url_symbol_text}/'\n",
    "            market_cap_soup = get_soup2(url) \n",
    "            coin_market_cap = market_cap_soup.find_all('div', attrs={\"class\": \"statsItemRight\"})[0].find(\"div\", attrs={\"class\": \"statsValue\"})\n",
    "\n",
    "        coin_market_cap_int = int(coin_market_cap.text.replace(\",\", \"\").replace(\"$\", \"\"))\n",
    "    except: \n",
    "        print(f\"Failed for token {coin_symbol}\")\n",
    "\n",
    "    if coin_symbol.text in BLACK_LISTED_SYMBOLS: \n",
    "        continue \n",
    "    results.append({'symbol': coin_symbol.text, 'market_cap': coin_market_cap_int})"
   ]
  },
  {
   "cell_type": "code",
   "execution_count": 7,
   "id": "4e96a56c",
   "metadata": {
    "execution": {
     "iopub.execute_input": "2022-01-16T14:45:42.735560Z",
     "iopub.status.busy": "2022-01-16T14:45:42.734074Z",
     "iopub.status.idle": "2022-01-16T14:45:42.736938Z",
     "shell.execute_reply": "2022-01-16T14:45:42.737587Z"
    },
    "papermill": {
     "duration": 0.029987,
     "end_time": "2022-01-16T14:45:42.737987",
     "exception": false,
     "start_time": "2022-01-16T14:45:42.708000",
     "status": "completed"
    },
    "tags": []
   },
   "outputs": [],
   "source": [
    "investing_df = pd.DataFrame(results)\n",
    "\n",
    "total_market_cap = investing_df['market_cap'].sum() \n",
    "investing_df['weight'] = investing_df['market_cap'] / total_market_cap"
   ]
  },
  {
   "cell_type": "code",
   "execution_count": 8,
   "id": "63884b56",
   "metadata": {
    "execution": {
     "iopub.execute_input": "2022-01-16T14:45:42.777824Z",
     "iopub.status.busy": "2022-01-16T14:45:42.777221Z",
     "iopub.status.idle": "2022-01-16T14:45:42.785805Z",
     "shell.execute_reply": "2022-01-16T14:45:42.786400Z"
    },
    "papermill": {
     "duration": 0.032337,
     "end_time": "2022-01-16T14:45:42.786585",
     "exception": false,
     "start_time": "2022-01-16T14:45:42.754248",
     "status": "completed"
    },
    "tags": []
   },
   "outputs": [
    {
     "data": {
      "text/html": [
       "<div>\n",
       "<style scoped>\n",
       "    .dataframe tbody tr th:only-of-type {\n",
       "        vertical-align: middle;\n",
       "    }\n",
       "\n",
       "    .dataframe tbody tr th {\n",
       "        vertical-align: top;\n",
       "    }\n",
       "\n",
       "    .dataframe thead th {\n",
       "        text-align: right;\n",
       "    }\n",
       "</style>\n",
       "<table border=\"1\" class=\"dataframe\">\n",
       "  <thead>\n",
       "    <tr style=\"text-align: right;\">\n",
       "      <th></th>\n",
       "      <th>symbol</th>\n",
       "      <th>market_cap</th>\n",
       "      <th>weight</th>\n",
       "    </tr>\n",
       "  </thead>\n",
       "  <tbody>\n",
       "    <tr>\n",
       "      <th>0</th>\n",
       "      <td>BTC</td>\n",
       "      <td>820828953048</td>\n",
       "      <td>0.607264</td>\n",
       "    </tr>\n",
       "    <tr>\n",
       "      <th>1</th>\n",
       "      <td>ETH</td>\n",
       "      <td>399958683531</td>\n",
       "      <td>0.295897</td>\n",
       "    </tr>\n",
       "    <tr>\n",
       "      <th>2</th>\n",
       "      <td>BNB</td>\n",
       "      <td>83271230254</td>\n",
       "      <td>0.061606</td>\n",
       "    </tr>\n",
       "    <tr>\n",
       "      <th>3</th>\n",
       "      <td>SOL</td>\n",
       "      <td>47625067545</td>\n",
       "      <td>0.035234</td>\n",
       "    </tr>\n",
       "  </tbody>\n",
       "</table>\n",
       "</div>"
      ],
      "text/plain": [
       "  symbol    market_cap    weight\n",
       "0    BTC  820828953048  0.607264\n",
       "1    ETH  399958683531  0.295897\n",
       "2    BNB   83271230254  0.061606\n",
       "3    SOL   47625067545  0.035234"
      ]
     },
     "execution_count": 8,
     "metadata": {},
     "output_type": "execute_result"
    }
   ],
   "source": [
    "investing_df.head()"
   ]
  },
  {
   "cell_type": "code",
   "execution_count": 9,
   "id": "3b3b9b6f",
   "metadata": {
    "execution": {
     "iopub.execute_input": "2022-01-16T14:45:42.838756Z",
     "iopub.status.busy": "2022-01-16T14:45:42.838081Z",
     "iopub.status.idle": "2022-01-16T14:45:43.039700Z",
     "shell.execute_reply": "2022-01-16T14:45:43.038575Z"
    },
    "papermill": {
     "duration": 0.237286,
     "end_time": "2022-01-16T14:45:43.040064",
     "exception": false,
     "start_time": "2022-01-16T14:45:42.802778",
     "status": "completed"
    },
    "tags": []
   },
   "outputs": [],
   "source": [
    "# https://docs.gspread.org/en/latest/oauth2.html#enable-api-access\n",
    "# https://docs.gspread.org/en/latest/user-guide.html#opening-a-spreadsheet\n",
    "from google.oauth2.service_account import Credentials\n",
    "import gspread\n",
    "\n",
    "scopes = [\n",
    "    'https://www.googleapis.com/auth/spreadsheets',\n",
    "    'https://www.googleapis.com/auth/drive'\n",
    "]\n",
    "\n",
    "credentials = Credentials.from_service_account_file(\n",
    "    'jsonFileFromGoogle.json',\n",
    "    scopes=scopes\n",
    ")\n",
    "\n",
    "gc = gspread.authorize(credentials)"
   ]
  },
  {
   "cell_type": "code",
   "execution_count": 10,
   "id": "d396ecb0",
   "metadata": {
    "execution": {
     "iopub.execute_input": "2022-01-16T14:45:43.092351Z",
     "iopub.status.busy": "2022-01-16T14:45:43.090842Z",
     "iopub.status.idle": "2022-01-16T14:45:44.567077Z",
     "shell.execute_reply": "2022-01-16T14:45:44.567787Z"
    },
    "papermill": {
     "duration": 1.508348,
     "end_time": "2022-01-16T14:45:44.568068",
     "exception": false,
     "start_time": "2022-01-16T14:45:43.059720",
     "status": "completed"
    },
    "tags": []
   },
   "outputs": [
    {
     "data": {
      "text/plain": [
       "{'spreadsheetId': '1J7roesFAznFzOY849R35rzc-n97gRfEL5cezDIzZA9c',\n",
       " 'updatedRange': \"'Crypto ETF (From Script)'!E2\",\n",
       " 'updatedRows': 1,\n",
       " 'updatedColumns': 1,\n",
       " 'updatedCells': 1}"
      ]
     },
     "execution_count": 10,
     "metadata": {},
     "output_type": "execute_result"
    }
   ],
   "source": [
    "sheet_key = '1J7roesFAznFzOY849R35rzc-n97gRfEL5cezDIzZA9c'\n",
    "sheet = gc.open_by_key(key=sheet_key)\n",
    "\n",
    "\n",
    "# https://docs.gspread.org/en/latest/user-guide.html#creating-a-worksheet\n",
    "worksheet_title = \"Crypto ETF (From Script)\"\n",
    "try: \n",
    "    worksheet = sheet.worksheet(worksheet_title)\n",
    "except gspread.WorksheetNotFound:\n",
    "    worksheet = sheet.add_worksheet(title=worksheet_title, rows=100, cols=20)\n",
    "\n",
    "# https://docs.gspread.org/en/latest/user-guide.html#using-gspread-with-pandas\n",
    "worksheet.update([])\n",
    "worksheet.update([investing_df.columns.values.tolist()] + investing_df.values.tolist())\n",
    "worksheet.update_cell(1, 5, \"Time Last Updated:\")\n",
    "worksheet.update_cell(2, 5, time.ctime())"
   ]
  },
  {
   "cell_type": "code",
   "execution_count": null,
   "id": "5e6bb612",
   "metadata": {
    "papermill": {
     "duration": 0.015056,
     "end_time": "2022-01-16T14:45:44.603077",
     "exception": false,
     "start_time": "2022-01-16T14:45:44.588021",
     "status": "completed"
    },
    "tags": []
   },
   "outputs": [],
   "source": []
  },
  {
   "cell_type": "code",
   "execution_count": null,
   "id": "70809a57",
   "metadata": {
    "papermill": {
     "duration": 0.019316,
     "end_time": "2022-01-16T14:45:44.643079",
     "exception": false,
     "start_time": "2022-01-16T14:45:44.623763",
     "status": "completed"
    },
    "tags": []
   },
   "outputs": [],
   "source": []
  }
 ],
 "metadata": {
  "interpreter": {
   "hash": "b48169e9047576d7aa1ce02e93bb7af6ca0f7c38360e28ec6814b12658a2dd94"
  },
  "kernelspec": {
   "display_name": "Python 3.9.5 64-bit ('venv_coinmarketcap_scanner': pyenv)",
   "language": "python",
   "name": "python3"
  },
  "language_info": {
   "codemirror_mode": {
    "name": "ipython",
    "version": 3
   },
   "file_extension": ".py",
   "mimetype": "text/x-python",
   "name": "python",
   "nbconvert_exporter": "python",
   "pygments_lexer": "ipython3",
   "version": "3.9.5"
  },
  "papermill": {
   "default_parameters": {},
   "duration": 39.208568,
   "end_time": "2022-01-16T14:45:44.980023",
   "environment_variables": {},
   "exception": null,
   "input_path": "coinmarketcap_scanner.ipynb",
   "output_path": "./output/output.ipynb",
   "parameters": {},
   "start_time": "2022-01-16T14:45:05.771455",
   "version": "2.3.3"
  }
 },
 "nbformat": 4,
 "nbformat_minor": 5
}