{
 "cells": [
  {
   "cell_type": "code",
   "execution_count": 1,
   "id": "1c5a8c25",
   "metadata": {
    "execution": {
     "iopub.execute_input": "2022-01-16T13:19:00.213405Z",
     "iopub.status.busy": "2022-01-16T13:19:00.212612Z",
     "iopub.status.idle": "2022-01-16T13:19:00.215365Z",
     "shell.execute_reply": "2022-01-16T13:19:00.215869Z"
    },
    "papermill": {
     "duration": 0.020866,
     "end_time": "2022-01-16T13:19:00.216118",
     "exception": false,
     "start_time": "2022-01-16T13:19:00.195252",
     "status": "completed"
    },
    "tags": []
   },
   "outputs": [],
   "source": [
    "# Script to calculate the holdings of a hypothetical market-cap weighted crypto-ETF. \n",
    "\n",
    "TOP_X_CRYPTOS = 50 # Thresholded up to 100\n",
    "DONT_INCLUDE_TOP_X = 0\n",
    "TOTAL_AMOUNT_TO_INVEST = 3000 # dollars\n",
    "\n",
    "BLACK_LISTED_SYMBOLS = {\"USDT\", \"USDC\", \"UST\", \"BUSD\", \"DAI\"}"
   ]
  },
  {
   "cell_type": "code",
   "execution_count": 2,
   "id": "61c13533",
   "metadata": {
    "execution": {
     "iopub.execute_input": "2022-01-16T13:19:00.235312Z",
     "iopub.status.busy": "2022-01-16T13:19:00.234742Z",
     "iopub.status.idle": "2022-01-16T13:19:02.773308Z",
     "shell.execute_reply": "2022-01-16T13:19:02.773758Z"
    },
    "papermill": {
     "duration": 2.549776,
     "end_time": "2022-01-16T13:19:02.773941",
     "exception": false,
     "start_time": "2022-01-16T13:19:00.224165",
     "status": "completed"
    },
    "tags": []
   },
   "outputs": [
    {
     "name": "stderr",
     "output_type": "stream",
     "text": [
      "\n",
      "\n"
     ]
    },
    {
     "name": "stderr",
     "output_type": "stream",
     "text": [
      "====== WebDriver manager ======\n"
     ]
    },
    {
     "name": "stderr",
     "output_type": "stream",
     "text": [
      "Current google-chrome version is 97.0.4692\n"
     ]
    },
    {
     "name": "stderr",
     "output_type": "stream",
     "text": [
      "Get LATEST chromedriver version for 97.0.4692 google-chrome\n"
     ]
    },
    {
     "name": "stderr",
     "output_type": "stream",
     "text": [
      "Driver [/Users/daniel/.wdm/drivers/chromedriver/mac64/97.0.4692.71/chromedriver] found in cache\n"
     ]
    },
    {
     "name": "stderr",
     "output_type": "stream",
     "text": [
      "/var/folders/3d/vggd2dl96n937ldjr_8vgn240000gn/T/ipykernel_20452/796157277.py:7: DeprecationWarning: executable_path has been deprecated, please pass in a Service object\n",
      "  driver = webdriver.Chrome(ChromeDriverManager().install())\n"
     ]
    }
   ],
   "source": [
    "from selenium import webdriver\n",
    "from webdriver_manager.chrome import ChromeDriverManager\n",
    "import requests\n",
    "from bs4 import BeautifulSoup\n",
    "import pandas as pd \n",
    "import time \n",
    "driver = webdriver.Chrome(ChromeDriverManager().install())"
   ]
  },
  {
   "cell_type": "code",
   "execution_count": 3,
   "id": "83768619",
   "metadata": {
    "execution": {
     "iopub.execute_input": "2022-01-16T13:19:02.860055Z",
     "iopub.status.busy": "2022-01-16T13:19:02.854938Z",
     "iopub.status.idle": "2022-01-16T13:19:02.863200Z",
     "shell.execute_reply": "2022-01-16T13:19:02.862509Z"
    },
    "papermill": {
     "duration": 0.036067,
     "end_time": "2022-01-16T13:19:02.863537",
     "exception": false,
     "start_time": "2022-01-16T13:19:02.827470",
     "status": "completed"
    },
    "tags": []
   },
   "outputs": [],
   "source": [
    "def get_soup(url): \n",
    "    # https://coderedirect.com/questions/215584/python-3-using-requests-does-not-get-the-full-content-of-a-web-page\n",
    "    driver.get(url)\n",
    "    soup = BeautifulSoup(driver.page_source, 'html.parser')\n",
    "    driver.quit()\n",
    "    return soup \n",
    "\n",
    "def get_soup2(url): \n",
    "    page = requests.get(url)\n",
    "    soup = BeautifulSoup(page.content, 'html.parser')\n",
    "    return soup "
   ]
  },
  {
   "cell_type": "code",
   "execution_count": 4,
   "id": "b0930106",
   "metadata": {
    "execution": {
     "iopub.execute_input": "2022-01-16T13:19:02.943033Z",
     "iopub.status.busy": "2022-01-16T13:19:02.942348Z",
     "iopub.status.idle": "2022-01-16T13:19:02.943882Z",
     "shell.execute_reply": "2022-01-16T13:19:02.944461Z"
    },
    "papermill": {
     "duration": 0.028281,
     "end_time": "2022-01-16T13:19:02.944638",
     "exception": false,
     "start_time": "2022-01-16T13:19:02.916357",
     "status": "completed"
    },
    "tags": []
   },
   "outputs": [],
   "source": [
    "url_overrides = {\n",
    "    \"dai\" : \"multi-collateral-dai\",\n",
    "    \"xdc-network\" : \"xinfin\",\n",
    "    '1inch-network' : '1inch',\n",
    "    \"gno\" : \"gnosis-gno\",\n",
    "    \"pax-dollar\": \"paxos-standard\"\n",
    "}"
   ]
  },
  {
   "cell_type": "code",
   "execution_count": 5,
   "id": "9197c404",
   "metadata": {
    "execution": {
     "iopub.execute_input": "2022-01-16T13:19:02.992754Z",
     "iopub.status.busy": "2022-01-16T13:19:02.991918Z",
     "iopub.status.idle": "2022-01-16T13:19:11.611578Z",
     "shell.execute_reply": "2022-01-16T13:19:11.611992Z"
    },
    "papermill": {
     "duration": 8.650633,
     "end_time": "2022-01-16T13:19:11.612168",
     "exception": false,
     "start_time": "2022-01-16T13:19:02.961535",
     "status": "completed"
    },
    "tags": []
   },
   "outputs": [
    {
     "name": "stdout",
     "output_type": "stream",
     "text": [
      "Failed for token <span class=\"crypto-symbol\">THETA</span>\n",
      "Failed for token <span class=\"crypto-symbol\">ONE</span>\n",
      "Failed for token <span class=\"crypto-symbol\">EGLD</span>\n"
     ]
    },
    {
     "name": "stdout",
     "output_type": "stream",
     "text": [
      "Failed for token <span class=\"crypto-symbol\">XMR</span>\n",
      "Failed for token <span class=\"crypto-symbol\">XTZ</span>\n",
      "Failed for token <span class=\"crypto-symbol\">KLAY</span>\n"
     ]
    },
    {
     "name": "stdout",
     "output_type": "stream",
     "text": [
      "Failed for token <span class=\"crypto-symbol\">HNT</span>\n",
      "Failed for token <span class=\"crypto-symbol\">LEO</span>\n",
      "Failed for token <span class=\"crypto-symbol\">AAVE</span>\n"
     ]
    },
    {
     "name": "stdout",
     "output_type": "stream",
     "text": [
      "Failed for token <span class=\"crypto-symbol\">MIOTA</span>\n",
      "Failed for token <span class=\"crypto-symbol\">CAKE</span>\n"
     ]
    }
   ],
   "source": [
    "\n",
    "url = \"https://coinmarketcap.com/\"\n",
    "soup = get_soup(url)\n",
    "table = soup.find('table', attrs={'class':'h7vnx2-2 czTsgW cmc-table'})\n",
    "table_body = table.find('tbody')\n",
    "url =  'https://coinmarketcap.com/'\n",
    "\n",
    "results = []\n",
    "\n",
    "rows = table_body.find_all('tr')\n",
    "for row in rows[DONT_INCLUDE_TOP_X:min(100, TOP_X_CRYPTOS)]:\n",
    "    # coin_item_symbol = row.find('p', class_ = \"sc-1eb5slv-0 gGIpIK coin-item-symbol\")\n",
    "    coin_symbol = row.find('p', attrs={'class':\"sc-1eb5slv-0 gGIpIK coin-item-symbol\"}) \n",
    "    try: \n",
    "        if coin_symbol:\n",
    "            coin_market_cap =row.find('span', attrs={'class': \"sc-1ow4cwt-1 ieFnWP\"})\n",
    "\n",
    "        else: \n",
    "            coin_symbol = row.find('span', attrs={'class':\"crypto-symbol\"})\n",
    "            url_symbol_text = row.find_all('span')[3].text.lower().replace(\" \", \"-\").replace(\".\", \"-\")\n",
    "\n",
    "            if url_symbol_text in url_overrides: \n",
    "                url_symbol_text = url_overrides[url_symbol_text]\n",
    "\n",
    "            url = f'https://coinmarketcap.com/currencies/{url_symbol_text}/'\n",
    "            market_cap_soup = get_soup2(url) \n",
    "            coin_market_cap = market_cap_soup.find_all('div', attrs={\"class\": \"statsItemRight\"})[0].find(\"div\", attrs={\"class\": \"statsValue\"})\n",
    "\n",
    "        coin_market_cap_int = int(coin_market_cap.text.replace(\",\", \"\").replace(\"$\", \"\"))\n",
    "    except: \n",
    "        print(f\"Failed for token {coin_symbol}\")\n",
    "\n",
    "    if coin_symbol.text in BLACK_LISTED_SYMBOLS: \n",
    "        continue \n",
    "    results.append({'symbol': coin_symbol.text, 'market_cap': coin_market_cap_int})"
   ]
  },
  {
   "cell_type": "code",
   "execution_count": 6,
   "id": "e13f5a06",
   "metadata": {
    "execution": {
     "iopub.execute_input": "2022-01-16T13:19:11.636860Z",
     "iopub.status.busy": "2022-01-16T13:19:11.636218Z",
     "iopub.status.idle": "2022-01-16T13:19:11.638110Z",
     "shell.execute_reply": "2022-01-16T13:19:11.638499Z"
    },
    "papermill": {
     "duration": 0.016804,
     "end_time": "2022-01-16T13:19:11.638666",
     "exception": false,
     "start_time": "2022-01-16T13:19:11.621862",
     "status": "completed"
    },
    "tags": []
   },
   "outputs": [],
   "source": [
    "investing_df = pd.DataFrame(results)\n",
    "\n",
    "total_market_cap = investing_df['market_cap'].sum() \n",
    "investing_df['weight'] = investing_df['market_cap'] / total_market_cap"
   ]
  },
  {
   "cell_type": "code",
   "execution_count": 7,
   "id": "a50113b1",
   "metadata": {
    "execution": {
     "iopub.execute_input": "2022-01-16T13:19:11.682731Z",
     "iopub.status.busy": "2022-01-16T13:19:11.682169Z",
     "iopub.status.idle": "2022-01-16T13:19:11.689988Z",
     "shell.execute_reply": "2022-01-16T13:19:11.690445Z"
    },
    "papermill": {
     "duration": 0.028444,
     "end_time": "2022-01-16T13:19:11.690611",
     "exception": false,
     "start_time": "2022-01-16T13:19:11.662167",
     "status": "completed"
    },
    "tags": []
   },
   "outputs": [
    {
     "data": {
      "text/html": [
       "<div>\n",
       "<style scoped>\n",
       "    .dataframe tbody tr th:only-of-type {\n",
       "        vertical-align: middle;\n",
       "    }\n",
       "\n",
       "    .dataframe tbody tr th {\n",
       "        vertical-align: top;\n",
       "    }\n",
       "\n",
       "    .dataframe thead th {\n",
       "        text-align: right;\n",
       "    }\n",
       "</style>\n",
       "<table border=\"1\" class=\"dataframe\">\n",
       "  <thead>\n",
       "    <tr style=\"text-align: right;\">\n",
       "      <th></th>\n",
       "      <th>symbol</th>\n",
       "      <th>market_cap</th>\n",
       "      <th>weight</th>\n",
       "    </tr>\n",
       "  </thead>\n",
       "  <tbody>\n",
       "    <tr>\n",
       "      <th>0</th>\n",
       "      <td>BTC</td>\n",
       "      <td>813851330257</td>\n",
       "      <td>0.457860</td>\n",
       "    </tr>\n",
       "    <tr>\n",
       "      <th>1</th>\n",
       "      <td>ETH</td>\n",
       "      <td>396568959464</td>\n",
       "      <td>0.223103</td>\n",
       "    </tr>\n",
       "    <tr>\n",
       "      <th>2</th>\n",
       "      <td>BNB</td>\n",
       "      <td>82746847087</td>\n",
       "      <td>0.046552</td>\n",
       "    </tr>\n",
       "    <tr>\n",
       "      <th>3</th>\n",
       "      <td>ADA</td>\n",
       "      <td>47071184956</td>\n",
       "      <td>0.026482</td>\n",
       "    </tr>\n",
       "    <tr>\n",
       "      <th>4</th>\n",
       "      <td>SOL</td>\n",
       "      <td>46890532800</td>\n",
       "      <td>0.026380</td>\n",
       "    </tr>\n",
       "  </tbody>\n",
       "</table>\n",
       "</div>"
      ],
      "text/plain": [
       "  symbol    market_cap    weight\n",
       "0    BTC  813851330257  0.457860\n",
       "1    ETH  396568959464  0.223103\n",
       "2    BNB   82746847087  0.046552\n",
       "3    ADA   47071184956  0.026482\n",
       "4    SOL   46890532800  0.026380"
      ]
     },
     "execution_count": 7,
     "metadata": {},
     "output_type": "execute_result"
    }
   ],
   "source": [
    "investing_df.head()"
   ]
  },
  {
   "cell_type": "code",
   "execution_count": 8,
   "id": "fcb583b1",
   "metadata": {
    "execution": {
     "iopub.execute_input": "2022-01-16T13:19:11.714497Z",
     "iopub.status.busy": "2022-01-16T13:19:11.713902Z",
     "iopub.status.idle": "2022-01-16T13:19:11.826917Z",
     "shell.execute_reply": "2022-01-16T13:19:11.827299Z"
    },
    "papermill": {
     "duration": 0.126782,
     "end_time": "2022-01-16T13:19:11.827466",
     "exception": false,
     "start_time": "2022-01-16T13:19:11.700684",
     "status": "completed"
    },
    "tags": []
   },
   "outputs": [],
   "source": [
    "# https://docs.gspread.org/en/latest/oauth2.html#enable-api-access\n",
    "# https://docs.gspread.org/en/latest/user-guide.html#opening-a-spreadsheet\n",
    "from google.oauth2.service_account import Credentials\n",
    "import gspread\n",
    "\n",
    "scopes = [\n",
    "    'https://www.googleapis.com/auth/spreadsheets',\n",
    "    'https://www.googleapis.com/auth/drive'\n",
    "]\n",
    "\n",
    "credentials = Credentials.from_service_account_file(\n",
    "    'jsonFileFromGoogle.json',\n",
    "    scopes=scopes\n",
    ")\n",
    "\n",
    "gc = gspread.authorize(credentials)"
   ]
  },
  {
   "cell_type": "code",
   "execution_count": 9,
   "id": "d05a0ce2",
   "metadata": {
    "execution": {
     "iopub.execute_input": "2022-01-16T13:19:11.853248Z",
     "iopub.status.busy": "2022-01-16T13:19:11.852665Z",
     "iopub.status.idle": "2022-01-16T13:19:12.934004Z",
     "shell.execute_reply": "2022-01-16T13:19:12.934464Z"
    },
    "papermill": {
     "duration": 1.096855,
     "end_time": "2022-01-16T13:19:12.934656",
     "exception": false,
     "start_time": "2022-01-16T13:19:11.837801",
     "status": "completed"
    },
    "tags": []
   },
   "outputs": [
    {
     "data": {
      "text/plain": [
       "{'spreadsheetId': '1J7roesFAznFzOY849R35rzc-n97gRfEL5cezDIzZA9c',\n",
       " 'updatedRange': \"'Crypto ETF (From Script)'!E2\",\n",
       " 'updatedRows': 1,\n",
       " 'updatedColumns': 1,\n",
       " 'updatedCells': 1}"
      ]
     },
     "execution_count": 9,
     "metadata": {},
     "output_type": "execute_result"
    }
   ],
   "source": [
    "sheet_key = '1J7roesFAznFzOY849R35rzc-n97gRfEL5cezDIzZA9c'\n",
    "sheet = gc.open_by_key(key=sheet_key)\n",
    "\n",
    "\n",
    "# https://docs.gspread.org/en/latest/user-guide.html#creating-a-worksheet\n",
    "worksheet_title = \"Crypto ETF (From Script)\"\n",
    "try: \n",
    "    worksheet = sheet.worksheet(worksheet_title)\n",
    "except gspread.WorksheetNotFound:\n",
    "    worksheet = sheet.add_worksheet(title=worksheet_title, rows=100, cols=20)\n",
    "\n",
    "# https://docs.gspread.org/en/latest/user-guide.html#using-gspread-with-pandas\n",
    "worksheet.update([])\n",
    "worksheet.update([investing_df.columns.values.tolist()] + investing_df.values.tolist())\n",
    "worksheet.update_cell(1, 5, \"Time Last Updated:\")\n",
    "worksheet.update_cell(2, 5, time.ctime())"
   ]
  },
  {
   "cell_type": "code",
   "execution_count": null,
   "id": "f321654f",
   "metadata": {
    "papermill": {
     "duration": 0.011406,
     "end_time": "2022-01-16T13:19:12.958888",
     "exception": false,
     "start_time": "2022-01-16T13:19:12.947482",
     "status": "completed"
    },
    "tags": []
   },
   "outputs": [],
   "source": []
  },
  {
   "cell_type": "code",
   "execution_count": null,
   "id": "3970c404",
   "metadata": {
    "papermill": {
     "duration": 0.011804,
     "end_time": "2022-01-16T13:19:12.982013",
     "exception": false,
     "start_time": "2022-01-16T13:19:12.970209",
     "status": "completed"
    },
    "tags": []
   },
   "outputs": [],
   "source": []
  }
 ],
 "metadata": {
  "interpreter": {
   "hash": "b48169e9047576d7aa1ce02e93bb7af6ca0f7c38360e28ec6814b12658a2dd94"
  },
  "kernelspec": {
   "display_name": "Python 3.9.5 64-bit ('venv_coinmarketcap_scanner': pyenv)",
   "language": "python",
   "name": "python3"
  },
  "language_info": {
   "codemirror_mode": {
    "name": "ipython",
    "version": 3
   },
   "file_extension": ".py",
   "mimetype": "text/x-python",
   "name": "python",
   "nbconvert_exporter": "python",
   "pygments_lexer": "ipython3",
   "version": "3.9.5"
  },
  "papermill": {
   "default_parameters": {},
   "duration": 14.463614,
   "end_time": "2022-01-16T13:19:13.312608",
   "environment_variables": {},
   "exception": null,
   "input_path": "coinmarketcap_scanner.ipynb",
   "output_path": "./output/output.ipynb",
   "parameters": {},
   "start_time": "2022-01-16T13:18:58.848994",
   "version": "2.3.3"
  }
 },
 "nbformat": 4,
 "nbformat_minor": 5
}